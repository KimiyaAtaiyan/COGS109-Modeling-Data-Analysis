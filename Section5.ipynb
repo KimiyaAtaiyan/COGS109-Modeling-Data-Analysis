{
 "cells": [
  {
   "cell_type": "markdown",
   "metadata": {},
   "source": [
    "# TA section 5 - Model evaluation and cross validation with logistic regression \n",
    "### Fangming Xie, 10/28/2019\n",
    "\n"
   ]
  },
  {
   "cell_type": "markdown",
   "metadata": {},
   "source": [
    "---"
   ]
  },
  {
   "cell_type": "markdown",
   "metadata": {},
   "source": [
    "### Dataset: Titanic Passengers\n",
    "This time we will learn using logistic regression for classification problem (whether a Titanic passenger survived).\n",
    "\n",
    "The dataset is posted on Piazza under **Resources** -> **General Resources** -> **Section3_Titanic_Passengers_filter.csv**:\n",
    "https://piazza.com/class_profile/get_resource/k0twu70kz3g3p0/k1qnqhs0coi553\n",
    "\n",
    "For more information about the dataset:\n",
    "https://www.kaggle.com/c/titanic/overview\n"
   ]
  },
  {
   "cell_type": "code",
   "execution_count": 5,
   "metadata": {},
   "outputs": [],
   "source": [
    "#### Here are all the packages you need for the following tasks \n",
    "import pandas as pd\n",
    "import numpy as np\n",
    "import statsmodels.formula.api as smf\n",
    "from sklearn import metrics # a new package you will use this time\n",
    "from sklearn.model_selection import KFold\n",
    "\n",
    "import matplotlib.pyplot as plt\n",
    "# --- setting up a fairly elegant plotting style\n",
    "import seaborn as sns\n",
    "sns.set_style('ticks', rc={'axes.grid':True})\n",
    "sns.set_context('talk')\n",
    "# --- end setting up styles"
   ]
  },
  {
   "cell_type": "markdown",
   "metadata": {},
   "source": [
    "#### Task 1: Loading data \n",
    "Load the data table into jupyter notebook, display its size and first few rows"
   ]
  },
  {
   "cell_type": "code",
   "execution_count": 6,
   "metadata": {},
   "outputs": [
    {
     "name": "stdout",
     "output_type": "stream",
     "text": [
      "(714, 12)\n"
     ]
    },
    {
     "data": {
      "text/html": [
       "<div>\n",
       "<style scoped>\n",
       "    .dataframe tbody tr th:only-of-type {\n",
       "        vertical-align: middle;\n",
       "    }\n",
       "\n",
       "    .dataframe tbody tr th {\n",
       "        vertical-align: top;\n",
       "    }\n",
       "\n",
       "    .dataframe thead th {\n",
       "        text-align: right;\n",
       "    }\n",
       "</style>\n",
       "<table border=\"1\" class=\"dataframe\">\n",
       "  <thead>\n",
       "    <tr style=\"text-align: right;\">\n",
       "      <th></th>\n",
       "      <th>Survived</th>\n",
       "      <th>Pclass</th>\n",
       "      <th>Last Name</th>\n",
       "      <th>First Name</th>\n",
       "      <th>Sex</th>\n",
       "      <th>Age</th>\n",
       "      <th>SibSp</th>\n",
       "      <th>Parch</th>\n",
       "      <th>Ticket</th>\n",
       "      <th>Fare</th>\n",
       "      <th>Cabin</th>\n",
       "      <th>Embarked</th>\n",
       "    </tr>\n",
       "  </thead>\n",
       "  <tbody>\n",
       "    <tr>\n",
       "      <th>0</th>\n",
       "      <td>0</td>\n",
       "      <td>3</td>\n",
       "      <td>Braund</td>\n",
       "      <td>Mr. Owen Harris</td>\n",
       "      <td>male</td>\n",
       "      <td>22.0</td>\n",
       "      <td>1</td>\n",
       "      <td>0</td>\n",
       "      <td>A/5 21171</td>\n",
       "      <td>7.2500</td>\n",
       "      <td>NaN</td>\n",
       "      <td>S</td>\n",
       "    </tr>\n",
       "    <tr>\n",
       "      <th>1</th>\n",
       "      <td>1</td>\n",
       "      <td>1</td>\n",
       "      <td>Cumings</td>\n",
       "      <td>Mrs. John Bradley (Florence Briggs Thayer)</td>\n",
       "      <td>female</td>\n",
       "      <td>38.0</td>\n",
       "      <td>1</td>\n",
       "      <td>0</td>\n",
       "      <td>PC 17599</td>\n",
       "      <td>71.2833</td>\n",
       "      <td>C85</td>\n",
       "      <td>C</td>\n",
       "    </tr>\n",
       "    <tr>\n",
       "      <th>2</th>\n",
       "      <td>1</td>\n",
       "      <td>3</td>\n",
       "      <td>Heikkinen</td>\n",
       "      <td>Miss. Laina</td>\n",
       "      <td>female</td>\n",
       "      <td>26.0</td>\n",
       "      <td>0</td>\n",
       "      <td>0</td>\n",
       "      <td>STON/O2. 3101282</td>\n",
       "      <td>7.9250</td>\n",
       "      <td>NaN</td>\n",
       "      <td>S</td>\n",
       "    </tr>\n",
       "    <tr>\n",
       "      <th>3</th>\n",
       "      <td>1</td>\n",
       "      <td>1</td>\n",
       "      <td>Futrelle</td>\n",
       "      <td>Mrs. Jacques Heath (Lily May Peel)</td>\n",
       "      <td>female</td>\n",
       "      <td>35.0</td>\n",
       "      <td>1</td>\n",
       "      <td>0</td>\n",
       "      <td>113803</td>\n",
       "      <td>53.1000</td>\n",
       "      <td>C123</td>\n",
       "      <td>S</td>\n",
       "    </tr>\n",
       "    <tr>\n",
       "      <th>4</th>\n",
       "      <td>0</td>\n",
       "      <td>3</td>\n",
       "      <td>Allen</td>\n",
       "      <td>Mr. William Henry</td>\n",
       "      <td>male</td>\n",
       "      <td>35.0</td>\n",
       "      <td>0</td>\n",
       "      <td>0</td>\n",
       "      <td>373450</td>\n",
       "      <td>8.0500</td>\n",
       "      <td>NaN</td>\n",
       "      <td>S</td>\n",
       "    </tr>\n",
       "  </tbody>\n",
       "</table>\n",
       "</div>"
      ],
      "text/plain": [
       "   Survived  Pclass  Last Name                                   First Name  \\\n",
       "0         0       3     Braund                              Mr. Owen Harris   \n",
       "1         1       1    Cumings   Mrs. John Bradley (Florence Briggs Thayer)   \n",
       "2         1       3  Heikkinen                                  Miss. Laina   \n",
       "3         1       1   Futrelle           Mrs. Jacques Heath (Lily May Peel)   \n",
       "4         0       3      Allen                            Mr. William Henry   \n",
       "\n",
       "      Sex   Age  SibSp  Parch            Ticket     Fare Cabin Embarked  \n",
       "0    male  22.0      1      0         A/5 21171   7.2500   NaN        S  \n",
       "1  female  38.0      1      0          PC 17599  71.2833   C85        C  \n",
       "2  female  26.0      0      0  STON/O2. 3101282   7.9250   NaN        S  \n",
       "3  female  35.0      1      0            113803  53.1000  C123        S  \n",
       "4    male  35.0      0      0            373450   8.0500   NaN        S  "
      ]
     },
     "execution_count": 6,
     "metadata": {},
     "output_type": "execute_result"
    }
   ],
   "source": [
    "file = 'Section3_Titanic_Passengers_filtered.csv'\n",
    "df = pd.read_csv(file) \n",
    "print(df.shape)\n",
    "df.head()"
   ]
  },
  {
   "cell_type": "markdown",
   "metadata": {},
   "source": [
    "#### Task 2: Logistic regression\n",
    "- Fit a linear regression of **Survived** vs **Fare** (x) and report fitting results\n",
    "\n",
    "Hint: use the following code as a template. Check documentation as you needed."
   ]
  },
  {
   "cell_type": "code",
   "execution_count": 3,
   "metadata": {},
   "outputs": [
    {
     "name": "stdout",
     "output_type": "stream",
     "text": [
      "Optimization terminated successfully.\n",
      "         Current function value: 0.631130\n",
      "         Iterations 6\n"
     ]
    },
    {
     "data": {
      "text/html": [
       "<table class=\"simpletable\">\n",
       "<caption>Logit Regression Results</caption>\n",
       "<tr>\n",
       "  <th>Dep. Variable:</th>     <td>Survived</td>     <th>  No. Observations:  </th>  <td>   714</td>  \n",
       "</tr>\n",
       "<tr>\n",
       "  <th>Model:</th>               <td>Logit</td>      <th>  Df Residuals:      </th>  <td>   712</td>  \n",
       "</tr>\n",
       "<tr>\n",
       "  <th>Method:</th>               <td>MLE</td>       <th>  Df Model:          </th>  <td>     1</td>  \n",
       "</tr>\n",
       "<tr>\n",
       "  <th>Date:</th>          <td>Mon, 28 Oct 2019</td> <th>  Pseudo R-squ.:     </th>  <td>0.06559</td> \n",
       "</tr>\n",
       "<tr>\n",
       "  <th>Time:</th>              <td>10:52:46</td>     <th>  Log-Likelihood:    </th> <td> -450.63</td> \n",
       "</tr>\n",
       "<tr>\n",
       "  <th>converged:</th>           <td>True</td>       <th>  LL-Null:           </th> <td> -482.26</td> \n",
       "</tr>\n",
       "<tr>\n",
       "  <th> </th>                      <td> </td>        <th>  LLR p-value:       </th> <td>1.809e-15</td>\n",
       "</tr>\n",
       "</table>\n",
       "<table class=\"simpletable\">\n",
       "<tr>\n",
       "      <td></td>         <th>coef</th>     <th>std err</th>      <th>z</th>      <th>P>|z|</th>  <th>[0.025</th>    <th>0.975]</th>  \n",
       "</tr>\n",
       "<tr>\n",
       "  <th>Intercept</th> <td>   -0.8968</td> <td>    0.108</td> <td>   -8.334</td> <td> 0.000</td> <td>   -1.108</td> <td>   -0.686</td>\n",
       "</tr>\n",
       "<tr>\n",
       "  <th>Fare</th>      <td>    0.0160</td> <td>    0.003</td> <td>    6.394</td> <td> 0.000</td> <td>    0.011</td> <td>    0.021</td>\n",
       "</tr>\n",
       "</table>"
      ],
      "text/plain": [
       "<class 'statsmodels.iolib.summary.Summary'>\n",
       "\"\"\"\n",
       "                           Logit Regression Results                           \n",
       "==============================================================================\n",
       "Dep. Variable:               Survived   No. Observations:                  714\n",
       "Model:                          Logit   Df Residuals:                      712\n",
       "Method:                           MLE   Df Model:                            1\n",
       "Date:                Mon, 28 Oct 2019   Pseudo R-squ.:                 0.06559\n",
       "Time:                        10:52:46   Log-Likelihood:                -450.63\n",
       "converged:                       True   LL-Null:                       -482.26\n",
       "                                        LLR p-value:                 1.809e-15\n",
       "==============================================================================\n",
       "                 coef    std err          z      P>|z|      [0.025      0.975]\n",
       "------------------------------------------------------------------------------\n",
       "Intercept     -0.8968      0.108     -8.334      0.000      -1.108      -0.686\n",
       "Fare           0.0160      0.003      6.394      0.000       0.011       0.021\n",
       "==============================================================================\n",
       "\"\"\""
      ]
     },
     "execution_count": 3,
     "metadata": {},
     "output_type": "execute_result"
    }
   ],
   "source": [
    "# assume your data is stored in \"df\" variable\n",
    "results = smf.logit('', data=df).fit()\n",
    "results.summary()"
   ]
  },
  {
   "cell_type": "markdown",
   "metadata": {},
   "source": [
    "#### Task 3: Confusion matrix and its derived metrics (Sensitivity, Specificity, false positive rate, ...)\n",
    "- for all passengers, predict whether he/she survived based on the model with threshold=0.5. (Predict he/she survived if the chance of survival is > 0.5)\n",
    "- get confusion matrix\n",
    "- calculate metrics derived from confusion matrix:\n",
    "    - Sensitivity\n",
    "    - Specificity\n",
    "    - False positive rate\n",
    "    - True positive rate\n",
    "    - Precison\n",
    "    - Recall\n",
    "    - Accuracy\n",
    "    - Error rate\n",
    "    \n",
    "Hint: expand the examples below."
   ]
  },
  {
   "cell_type": "code",
   "execution_count": 4,
   "metadata": {},
   "outputs": [
    {
     "data": {
      "text/plain": [
       "array([[392,  32],\n",
       "       [204,  86]])"
      ]
     },
     "execution_count": 4,
     "metadata": {},
     "output_type": "execute_result"
    }
   ],
   "source": [
    "threshold = 0.5\n",
    "df['pred_Survived'] = (results.predict() > threshold).astype(int) # model predictions on data points\n",
    "conf_mat = metrics.confusion_matrix(df['Survived'], df['pred_Survived']) # confusion matrix\n",
    "conf_mat"
   ]
  },
  {
   "cell_type": "code",
   "execution_count": 5,
   "metadata": {},
   "outputs": [
    {
     "name": "stdout",
     "output_type": "stream",
     "text": [
      "0.296551724137931\n",
      "0.9245283018867925\n",
      "0.296551724137931\n",
      "0.07547169811320753\n",
      "0.7288135593220338\n",
      "0.296551724137931\n",
      "0.6694677871148459\n",
      "0.3305322128851541\n"
     ]
    }
   ],
   "source": [
    "def sensitivity(conf_mat):\n",
    "    return conf_mat[1, 1]/np.sum(conf_mat[1, :])\n",
    "\n",
    "print(sensitivity(conf_mat))\n",
    "\n",
    "\n",
    "\n",
    "print(specificity(conf_mat))\n",
    "print(true_positive_rate(conf_mat))\n",
    "print(false_positive_rate(conf_mat))\n",
    "print(precision(conf_mat))\n",
    "print(recall(conf_mat))\n",
    "print(accuracy(conf_mat))\n",
    "print(error_rate(conf_mat))\n"
   ]
  },
  {
   "cell_type": "markdown",
   "metadata": {},
   "source": [
    "#### Task 4: Changing threshold; ROC curve \n",
    "- Repeat task 3 with 100 different thresholds equally spaced between 0 and 1\n",
    "- Record true positive rate (TPR) and false positive rate (FPR) for each threshold\n",
    "- Plotting: FPR vs threshold; TPR vs threshold; TPR vs FPR (ROC curve)\n",
    "\n",
    "Hint: use the following code as a template. Check documentation as you needed."
   ]
  },
  {
   "cell_type": "code",
   "execution_count": 6,
   "metadata": {},
   "outputs": [],
   "source": [
    "thresholds = np.linspace(0, 1, 100)\n",
    "tprs = []\n",
    "fprs = []\n",
    "\n",
    "for threshold in thresholds:\n",
    "    # do one round; get tpr and fpr\n",
    "    \n",
    "    # record\n",
    "    tprs.append(tpr)\n",
    "    fprs.append(fpr)"
   ]
  },
  {
   "cell_type": "code",
   "execution_count": 3,
   "metadata": {},
   "outputs": [
    {
     "data": {
      "image/png": "[encoded data removed]",
      "text/plain": [
       "<Figure size 1080x360 with 3 Axes>"
      ]
     },
     "metadata": {},
     "output_type": "display_data"
    }
   ],
   "source": [
    "fig, axs = plt.subplots(1, 3, figsize=(5*3, 5))\n",
    "ax = axs[0]\n",
    "ax.set_xlabel('Threshold')\n",
    "ax.set_ylabel('FPR')\n",
    "ax = axs[1]\n",
    "ax.set_xlabel('Threshold')\n",
    "ax.set_ylabel('TPR')\n",
    "ax = axs[2]\n",
    "ax.set_xlabel('FPR')\n",
    "ax.set_ylabel('TPR')\n",
    "\n",
    "fig.tight_layout()\n",
    "plt.show()"
   ]
  },
  {
   "cell_type": "markdown",
   "metadata": {},
   "source": [
    "#### Task 5: kfold cross validation\n",
    "- repeat task 3 with 5-fold cross validation\n",
    "- record training error rate and test error rate for each fold\n",
    "- report mean error rate across 5 folds\n",
    "\n",
    "Hint: use the following code as a template. Check documentation as you needed."
   ]
  },
  {
   "cell_type": "code",
   "execution_count": 13,
   "metadata": {},
   "outputs": [],
   "source": [
    "def accuracy(conf_mat):\n",
    "    return (conf_mat[0, 0] + conf_mat[1, 1])/np.sum(np.ravel(conf_mat))\n",
    "def error_rate(conf_mat):\n",
    "    return 1 - accuracy(conf_mat) "
   ]
  },
  {
   "cell_type": "code",
   "execution_count": 14,
   "metadata": {},
   "outputs": [
    {
     "data": {
      "text/html": [
       "<div>\n",
       "<style scoped>\n",
       "    .dataframe tbody tr th:only-of-type {\n",
       "        vertical-align: middle;\n",
       "    }\n",
       "\n",
       "    .dataframe tbody tr th {\n",
       "        vertical-align: top;\n",
       "    }\n",
       "\n",
       "    .dataframe thead th {\n",
       "        text-align: right;\n",
       "    }\n",
       "</style>\n",
       "<table border=\"1\" class=\"dataframe\">\n",
       "  <thead>\n",
       "    <tr style=\"text-align: right;\">\n",
       "      <th></th>\n",
       "      <th>training error rate</th>\n",
       "      <th>test error rate</th>\n",
       "    </tr>\n",
       "  </thead>\n",
       "  <tbody>\n",
       "    <tr>\n",
       "      <th>0</th>\n",
       "      <td>0.325744</td>\n",
       "      <td>0.349650</td>\n",
       "    </tr>\n",
       "    <tr>\n",
       "      <th>1</th>\n",
       "      <td>0.338004</td>\n",
       "      <td>0.356643</td>\n",
       "    </tr>\n",
       "    <tr>\n",
       "      <th>2</th>\n",
       "      <td>0.332750</td>\n",
       "      <td>0.307692</td>\n",
       "    </tr>\n",
       "    <tr>\n",
       "      <th>3</th>\n",
       "      <td>0.330998</td>\n",
       "      <td>0.300699</td>\n",
       "    </tr>\n",
       "    <tr>\n",
       "      <th>4</th>\n",
       "      <td>0.337413</td>\n",
       "      <td>0.366197</td>\n",
       "    </tr>\n",
       "  </tbody>\n",
       "</table>\n",
       "</div>"
      ],
      "text/plain": [
       "   training error rate  test error rate\n",
       "0             0.325744         0.349650\n",
       "1             0.338004         0.356643\n",
       "2             0.332750         0.307692\n",
       "3             0.330998         0.300699\n",
       "4             0.337413         0.366197"
      ]
     },
     "execution_count": 14,
     "metadata": {},
     "output_type": "execute_result"
    }
   ],
   "source": [
    "k = 5 \n",
    "threshold = 0.5\n",
    "kf = KFold(n_splits=k, shuffle=True)\n",
    "train_trrs = []\n",
    "test_trrs = []\n",
    "\n",
    "for train_index, test_index in kf.split(df):\n",
    "    df_train = df.iloc[train_index, :]\n",
    "    df_test = df.iloc[test_index, :]\n",
    "    \n",
    "    # logistic regression on training data\n",
    "    res = smf.logit('', data=).fit(disp=0)\n",
    "    \n",
    "    # training total error rate \n",
    "    train_pred = (res.predict(df_train) > threshold).astype(int)\n",
    "    train_conf_mat = metrics.confusion_matrix(df_train['Survived'], train_pred)\n",
    "    train_trr = error_rate(train_conf_mat)\n",
    "    \n",
    "    # test total error rate \n",
    "    \n",
    "    \n",
    "    # record training error and test error\n",
    "    train_trrs.append(train_trr)\n",
    "    test_trrs.append(test_trr)\n",
    "    \n",
    "# summarize results into a table\n",
    "res_table = pd.DataFrame()\n",
    "res_table['training error rate'] = train_trrs\n",
    "res_table['test error rate'] = test_trrs\n",
    "res_table\n",
    "    "
   ]
  },
  {
   "cell_type": "code",
   "execution_count": 15,
   "metadata": {},
   "outputs": [
    {
     "data": {
      "text/plain": [
       "training error rate    0.332982\n",
       "test error rate        0.336176\n",
       "dtype: float64"
      ]
     },
     "execution_count": 15,
     "metadata": {},
     "output_type": "execute_result"
    }
   ],
   "source": [
    "res_table.mean()"
   ]
  },
  {
   "cell_type": "code",
   "execution_count": null,
   "metadata": {},
   "outputs": [],
   "source": []
  }
 ],
 "metadata": {
  "kernelspec": {
   "display_name": "Python 3",
   "language": "python",
   "name": "python3"
  },
  "language_info": {
   "codemirror_mode": {
    "name": "ipython",
    "version": 3
   },
   "file_extension": ".py",
   "mimetype": "text/x-python",
   "name": "python",
   "nbconvert_exporter": "python",
   "pygments_lexer": "ipython3",
   "version": "3.7.3"
  }
 },
 "nbformat": 4,
 "nbformat_minor": 2
}
