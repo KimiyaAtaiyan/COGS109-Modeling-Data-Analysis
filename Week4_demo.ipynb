{
 "cells": [
  {
   "cell_type": "raw",
   "metadata": {},
   "source": [
    "Cogs 109\n",
    "Week 4 demo\n",
    "Cross-validation"
   ]
  },
  {
   "cell_type": "code",
   "execution_count": 1,
   "metadata": {},
   "outputs": [],
   "source": [
    "# Import libraries\n",
    "import matplotlib.pyplot as plt # Matplotlib is used for plotting\n",
    "import pandas as pd             # Pandas helps organize data structures\n",
    "import numpy as np\n",
    "import statsmodels.formula.api as smf  # Statsmodel provides linear regression"
   ]
  },
  {
   "cell_type": "code",
   "execution_count": 2,
   "metadata": {},
   "outputs": [],
   "source": [
    "import statsmodels"
   ]
  },
  {
   "cell_type": "code",
   "execution_count": 5,
   "metadata": {},
   "outputs": [
    {
     "data": {
      "text/html": [
       "<div>\n",
       "<style scoped>\n",
       "    .dataframe tbody tr th:only-of-type {\n",
       "        vertical-align: middle;\n",
       "    }\n",
       "\n",
       "    .dataframe tbody tr th {\n",
       "        vertical-align: top;\n",
       "    }\n",
       "\n",
       "    .dataframe thead th {\n",
       "        text-align: right;\n",
       "    }\n",
       "</style>\n",
       "<table border=\"1\" class=\"dataframe\">\n",
       "  <thead>\n",
       "    <tr style=\"text-align: right;\">\n",
       "      <th></th>\n",
       "      <th>Unnamed: 0</th>\n",
       "      <th>YEAR</th>\n",
       "      <th>Temp</th>\n",
       "      <th>Wet</th>\n",
       "      <th>Cloud</th>\n",
       "      <th>HighTemp</th>\n",
       "    </tr>\n",
       "  </thead>\n",
       "  <tbody>\n",
       "    <tr>\n",
       "      <td>0</td>\n",
       "      <td>0</td>\n",
       "      <td>1901</td>\n",
       "      <td>5.0</td>\n",
       "      <td>110.5</td>\n",
       "      <td>54.7</td>\n",
       "      <td>0</td>\n",
       "    </tr>\n",
       "    <tr>\n",
       "      <td>1</td>\n",
       "      <td>1</td>\n",
       "      <td>1902</td>\n",
       "      <td>5.4</td>\n",
       "      <td>110.1</td>\n",
       "      <td>54.6</td>\n",
       "      <td>0</td>\n",
       "    </tr>\n",
       "    <tr>\n",
       "      <td>2</td>\n",
       "      <td>2</td>\n",
       "      <td>1903</td>\n",
       "      <td>5.2</td>\n",
       "      <td>111.1</td>\n",
       "      <td>54.9</td>\n",
       "      <td>0</td>\n",
       "    </tr>\n",
       "    <tr>\n",
       "      <td>3</td>\n",
       "      <td>3</td>\n",
       "      <td>1904</td>\n",
       "      <td>4.6</td>\n",
       "      <td>110.8</td>\n",
       "      <td>54.7</td>\n",
       "      <td>0</td>\n",
       "    </tr>\n",
       "    <tr>\n",
       "      <td>4</td>\n",
       "      <td>4</td>\n",
       "      <td>1905</td>\n",
       "      <td>5.1</td>\n",
       "      <td>111.1</td>\n",
       "      <td>55.0</td>\n",
       "      <td>0</td>\n",
       "    </tr>\n",
       "  </tbody>\n",
       "</table>\n",
       "</div>"
      ],
      "text/plain": [
       "   Unnamed: 0  YEAR  Temp    Wet  Cloud  HighTemp\n",
       "0           0  1901   5.0  110.5   54.7         0\n",
       "1           1  1902   5.4  110.1   54.6         0\n",
       "2           2  1903   5.2  111.1   54.9         0\n",
       "3           3  1904   4.6  110.8   54.7         0\n",
       "4           4  1905   5.1  111.1   55.0         0"
      ]
     },
     "execution_count": 5,
     "metadata": {},
     "output_type": "execute_result"
    }
   ],
   "source": [
    "data=pd.read_csv('HW2_climate.csv')\n",
    "\n",
    "# Create a binary variable with values 0 or 1, encoding whether the mean temp is > 5.7\n",
    "data['HighTemp'] = 0;\n",
    "data.loc[data['Temp']>5.7,'HighTemp'] = 1;\n",
    "data.head()"
   ]
  },
  {
   "cell_type": "code",
   "execution_count": 23,
   "metadata": {},
   "outputs": [
    {
     "name": "stdout",
     "output_type": "stream",
     "text": [
      "[False  True  True False  True False]\n",
      "[True, False, False, True, False, True]\n",
      "   Unnamed: 0  YEAR  Temp    Wet  Cloud  HighTemp\n",
      "0           0  1901   5.0  110.5   54.7         0\n",
      "3           3  1904   4.6  110.8   54.7         0\n",
      "5           5  1906   5.0  112.0   55.0         0\n",
      "   Unnamed: 0  YEAR  Temp    Wet  Cloud  HighTemp\n",
      "1           1  1902   5.4  110.1   54.6         0\n",
      "2           2  1903   5.2  111.1   54.9         0\n",
      "4           4  1905   5.1  111.1   55.0         0\n"
     ]
    }
   ],
   "source": [
    "# Example of how to define subsets of a data frame\n",
    "\n",
    "# Create a smaller dataframe with the first 6 rows\n",
    "n = 6\n",
    "data_example = data[0:n] \n",
    "\n",
    "# Define test and train vectors\n",
    "test = [ i<n*0.5 for i in range(n)]\n",
    "test = np.random.permutation(test)\n",
    "train = [ (not i) for i in test]\n",
    "\n",
    "print(test)\n",
    "print(train)\n",
    "print(data_example[train])\n",
    "print(data_example[test])"
   ]
  },
  {
   "cell_type": "code",
   "execution_count": 29,
   "metadata": {},
   "outputs": [],
   "source": [
    "train_error = []\n",
    "test_error = []\n",
    "test_fraction = 0.5;\n",
    "n = data.shape[0]\n",
    "mse_test = list()\n",
    "mse_train = list()\n",
    "for j in range(100):  # Loop over the number of iterations of splitting\n",
    "    \n",
    "    #  Create a logical vector (true/false) that splits the data into\n",
    "    # training and testing sets\n",
    "    test = [ (i<n*test_fraction) for i in range(n)]\n",
    "    test = np.random.permutation(test)\n",
    "    \n",
    "    # Define the training set as the data points which are not testing\n",
    "    train = [ (not i) for i in test];\n",
    "\n",
    "    # Train logistic regression using the training data\n",
    "    mdl=smf.logit(formula='HighTemp ~ 1 + YEAR + Wet', data=data[train]).fit(disp=0);\n",
    "    \n",
    "    # Test the predictions\n",
    "    yhat = mdl.predict(data[test])\n",
    "    current_mse = np.mean( np.square(data['HighTemp'][test] - yhat) ) \n",
    "    mse_test.append( current_mse )\n",
    "    \n",
    "    # Test the predictions\n",
    "    current_mse = np.mean( np.square(data['HighTemp'][train] - mdl.predict(data[train])) ) \n",
    "    mse_train.append( current_mse )\n",
    "    \n",
    "    "
   ]
  },
  {
   "cell_type": "code",
   "execution_count": 39,
   "metadata": {},
   "outputs": [
    {
     "data": {
      "image/png": "[encoded data removed]",
      "text/plain": [
       "<Figure size 432x288 with 1 Axes>"
      ]
     },
     "metadata": {
      "needs_background": "light"
     },
     "output_type": "display_data"
    }
   ],
   "source": [
    "# Make a histogram showing the MSE for test data\n",
    "# plt.hist(mse_test);\n",
    "# plt.hist(mse_train);\n",
    "plt.boxplot([mse_train, mse_test],labels = ['train','test']);\n",
    "plt.ylabel('MSE')\n",
    "plt.grid(True)"
   ]
  }
 ],
 "metadata": {
  "kernelspec": {
   "display_name": "Python 3",
   "language": "python",
   "name": "python3"
  },
  "language_info": {
   "codemirror_mode": {
    "name": "ipython",
    "version": 3
   },
   "file_extension": ".py",
   "mimetype": "text/x-python",
   "name": "python",
   "nbconvert_exporter": "python",
   "pygments_lexer": "ipython3",
   "version": "3.7.3"
  }
 },
 "nbformat": 4,
 "nbformat_minor": 4
}
