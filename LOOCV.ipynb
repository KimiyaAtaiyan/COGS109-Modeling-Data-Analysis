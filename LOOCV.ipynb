{
 "cells": [
  {
   "cell_type": "markdown",
   "metadata": {},
   "source": [
    "#1)\n",
    "\n",
    "a)For LOOCV we choose n-1 observations for training and 1 observation for for test. This combination we can do n times, each time assigning different data to each set. Therefore we can define n subsets\n",
    "\n",
    "\n",
    "\n",
    "b) 1 . If A represents the data set of size n-1 and B the remaining data point, then in the next subset we choose B to be a different remaining data point and so the overlap of the 2 subsets is 1.\n",
    "\n",
    "\n",
    "c) k^n / k! , maximum number of folds we can have is n and we divide by k! to account for the unique combinations\n",
    "\n",
    "\n",
    "d) for example if we have data size = 10 and k = 2 then we have two folders with each containing data size of 5.\n",
    "\n",
    "folder 1 = {a1, a2, a3, a4, a5}\n",
    "folder 2 = {a6, a7, a8, a9, a10}\n",
    "\n",
    "we can see that the overlap between each folder is not present. Therefore fractional overlap = 0.\n",
    "\n",
    "e) bootstrap resamples with replacement, and due to the drawing with replacement, a bootstrapped data set may contain multiple instances of the same original cases, and may completely omit other original cases. This means there are (2N - 1) choose (N) ways.\n",
    "This is the same problem as we would consider  how many ways there are to put N balls into N buckets, using the 'stars and bars' counting method.\n",
    "So, thhere are [(2n-1) choose n] distinct bootstrap samples. That is with replacement, the elements in each sample are not unique, but the order of the elements does not matter.\n",
    "\n",
    "Cross validation on the other hand, resamples without replacement and thus produces surrogate data sets that are smaller than the original. \n",
    "This means that the number of possible k-fold subsets is smaller than the number of bootrap samples.\n",
    "\n",
    "\n",
    "d) \n",
    "Advantage of k-fold cross validation relative to LOOCV: LOOCV requires fitting the statistical learning method n times. This has the potential to be computationally expensive. Moreover, k-fold CV often gives more accurate estimates of the test error rate than does LOOCV.\n",
    "\n",
    "Disadvantage of k-fold cross validation relative to LOOCV: If the main purpose bias reduction, LOOCV should be preffered to k-fold CV since it tends to has less bias.\n",
    "\n",
    "overall: \n",
    "Advantages of LOOCV:\n",
    "-since we use n-1 observations for training, the model fit will be almost as good as possible \n",
    "-there is no randomness, we use each observation for testing exactly once\n",
    "\n",
    "Disadvantage of LOOCV:\n",
    "LOOCV requires fitting n models. So when n is realitvely large, it may be more computationally expensive that k-fold\n",
    "\n",
    "Advantages of k-fold:\n",
    "k-fold may give more accurate measures of the test error t\n",
    "\n",
    "Disadvantages of k-fold:\n",
    "-when we use small fraction of data for training, the estimate for MSE is biased (too high)\n",
    "-when we use small fraction of data for training, the estimates MSE has high variance \n"
   ]
  },
  {
   "cell_type": "code",
   "execution_count": 56,
   "metadata": {},
   "outputs": [],
   "source": [
    "import matplotlib.pyplot as plt\n",
    "import pandas as pd \n",
    "import numpy as np\n",
    "import sklearn \n",
    "from sklearn.model_selection import train_test_split\n",
    "from sklearn.preprocessing import scale\n",
    "from sklearn import metrics \n",
    "from sklearn.metrics import confusion_matrix\n",
    "import statsmodels.formula.api as smf\n",
    "from sklearn.model_selection import KFold"
   ]
  },
  {
   "cell_type": "code",
   "execution_count": 57,
   "metadata": {},
   "outputs": [
    {
     "data": {
      "text/html": [
       "<div>\n",
       "<style scoped>\n",
       "    .dataframe tbody tr th:only-of-type {\n",
       "        vertical-align: middle;\n",
       "    }\n",
       "\n",
       "    .dataframe tbody tr th {\n",
       "        vertical-align: top;\n",
       "    }\n",
       "\n",
       "    .dataframe thead th {\n",
       "        text-align: right;\n",
       "    }\n",
       "</style>\n",
       "<table border=\"1\" class=\"dataframe\">\n",
       "  <thead>\n",
       "    <tr style=\"text-align: right;\">\n",
       "      <th></th>\n",
       "      <th>Lars2</th>\n",
       "      <th>Malat1</th>\n",
       "      <th>mature</th>\n",
       "    </tr>\n",
       "  </thead>\n",
       "  <tbody>\n",
       "    <tr>\n",
       "      <th>0</th>\n",
       "      <td>9.95</td>\n",
       "      <td>6.69</td>\n",
       "      <td>1</td>\n",
       "    </tr>\n",
       "    <tr>\n",
       "      <th>1</th>\n",
       "      <td>10.54</td>\n",
       "      <td>8.53</td>\n",
       "      <td>1</td>\n",
       "    </tr>\n",
       "    <tr>\n",
       "      <th>2</th>\n",
       "      <td>6.58</td>\n",
       "      <td>8.74</td>\n",
       "      <td>1</td>\n",
       "    </tr>\n",
       "    <tr>\n",
       "      <th>3</th>\n",
       "      <td>7.49</td>\n",
       "      <td>9.09</td>\n",
       "      <td>1</td>\n",
       "    </tr>\n",
       "    <tr>\n",
       "      <th>4</th>\n",
       "      <td>7.42</td>\n",
       "      <td>9.87</td>\n",
       "      <td>1</td>\n",
       "    </tr>\n",
       "  </tbody>\n",
       "</table>\n",
       "</div>"
      ],
      "text/plain": [
       "   Lars2  Malat1  mature\n",
       "0   9.95    6.69       1\n",
       "1  10.54    8.53       1\n",
       "2   6.58    8.74       1\n",
       "3   7.49    9.09       1\n",
       "4   7.42    9.87       1"
      ]
     },
     "execution_count": 57,
     "metadata": {},
     "output_type": "execute_result"
    }
   ],
   "source": [
    "data = pd.read_csv('hw3_divseq_data.csv')\n",
    "data.head()"
   ]
  },
  {
   "cell_type": "code",
   "execution_count": 58,
   "metadata": {},
   "outputs": [
    {
     "name": "stdout",
     "output_type": "stream",
     "text": [
      "Optimization terminated successfully.\n",
      "         Current function value: 0.196827\n",
      "         Iterations 9\n",
      "                           Logit Regression Results                           \n",
      "==============================================================================\n",
      "Dep. Variable:                 mature   No. Observations:                  817\n",
      "Model:                          Logit   Df Residuals:                      814\n",
      "Method:                           MLE   Df Model:                            2\n",
      "Date:                Tue, 29 Oct 2019   Pseudo R-squ.:                  0.6088\n",
      "Time:                        18:09:56   Log-Likelihood:                -160.81\n",
      "converged:                       True   LL-Null:                       -411.04\n",
      "Covariance Type:            nonrobust   LLR p-value:                2.122e-109\n",
      "==============================================================================\n",
      "                 coef    std err          z      P>|z|      [0.025      0.975]\n",
      "------------------------------------------------------------------------------\n",
      "Intercept    -25.5697      2.177    -11.743      0.000     -29.838     -21.302\n",
      "Lars2          2.3119      0.223     10.354      0.000       1.874       2.750\n",
      "Malat1         1.0836      0.156      6.941      0.000       0.778       1.390\n",
      "==============================================================================\n"
     ]
    }
   ],
   "source": [
    "#(3)\n",
    "#Multiple logistic regression \n",
    "#a)\n",
    "mdl = smf.logit(formula = 'mature ~ 1 + Lars2 + Malat1', data=data).fit()\n",
    "print(mdl.summary())"
   ]
  },
  {
   "cell_type": "code",
   "execution_count": 59,
   "metadata": {},
   "outputs": [
    {
     "name": "stdout",
     "output_type": "stream",
     "text": [
      "[[618  34]\n",
      " [ 45 120]]\n"
     ]
    }
   ],
   "source": [
    "probs = mdl.predict()\n",
    "classif = lambda x: 1 if(x>0.5) else 0\n",
    "prediction = np.array([classif(x) for x in probs])\n",
    "confusionMatrix = confusion_matrix(data[['mature']], prediction)\n",
    "print(confusionMatrix)"
   ]
  },
  {
   "cell_type": "code",
   "execution_count": 60,
   "metadata": {},
   "outputs": [
    {
     "name": "stdout",
     "output_type": "stream",
     "text": [
      "sensitivity:  0.7272727272727273 Specificity:   0.9478527607361963 Correct prediction:   0.9033047735618115\n"
     ]
    }
   ],
   "source": [
    "specificity = confusionMatrix[0,0]/(confusionMatrix[0,0] + confusionMatrix[0,1])\n",
    "sensitivity = confusionMatrix[1,1]/(confusionMatrix[1,0] + confusionMatrix[1,1])\n",
    "\n",
    "total = (confusionMatrix[0,0] + confusionMatrix[1,1])/(confusionMatrix[0,0] + confusionMatrix[0,1] + confusionMatrix[1,0] + confusionMatrix[1,1])\n",
    "\n",
    "print(\"sensitivity: \", sensitivity, \"Specificity:  \", specificity, \"Correct prediction:  \", total) "
   ]
  },
  {
   "cell_type": "markdown",
   "metadata": {},
   "source": [
    "3b)"
   ]
  },
  {
   "cell_type": "markdown",
   "metadata": {},
   "source": [
    "If the model only predicts immaturity from all data points, it would have a test accuracy of 80%. A model that predicts maturity would onlt have 20% accuracy on the data set"
   ]
  },
  {
   "cell_type": "markdown",
   "metadata": {},
   "source": [
    "3c) to classify more mature neurons correctly we have to lower our threshold to 0.2, becayse then we will be classifying more points as bein mature and will maintain a better sensitivity"
   ]
  },
  {
   "cell_type": "markdown",
   "metadata": {},
   "source": [
    "3d)"
   ]
  },
  {
   "cell_type": "code",
   "execution_count": 61,
   "metadata": {},
   "outputs": [
    {
     "name": "stdout",
     "output_type": "stream",
     "text": [
      "[[575  77]\n",
      " [  7 158]]\n"
     ]
    }
   ],
   "source": [
    "probs = mdl.predict()\n",
    "classif = lambda x: 1 if(x >0.2) else 0\n",
    "predictions = np.array([classif(x) for x in probs])\n",
    "\n",
    "confusionMatrix = confusion_matrix(data[['mature']], predictions)\n",
    "print(confusionMatrix)"
   ]
  },
  {
   "cell_type": "code",
   "execution_count": 62,
   "metadata": {},
   "outputs": [
    {
     "name": "stdout",
     "output_type": "stream",
     "text": [
      "sensitivity:  0.9575757575757575 Specificity:   0.8819018404907976 Correct prediction:   0.8971848225214198\n"
     ]
    }
   ],
   "source": [
    "specificity = confusionMatrix[0,0]/(confusionMatrix[0,0] + confusionMatrix[0,1])\n",
    "sensitivity = confusionMatrix[1,1]/(confusionMatrix[1,0] + confusionMatrix[1,1])\n",
    "total = (confusionMatrix[0,0] + confusionMatrix[1,1])/(confusionMatrix[0,0] + confusionMatrix[0,1] + confusionMatrix[1,0] + confusionMatrix[1,1])\n",
    "print(\"sensitivity: \", sensitivity, \"Specificity:  \", specificity, \"Correct prediction:  \", total) "
   ]
  },
  {
   "cell_type": "markdown",
   "metadata": {},
   "source": [
    "3e)"
   ]
  },
  {
   "cell_type": "code",
   "execution_count": 63,
   "metadata": {},
   "outputs": [
    {
     "data": {
      "text/plain": [
       "Text(0, 0.5, 'False Positive Rate')"
      ]
     },
     "execution_count": 63,
     "metadata": {},
     "output_type": "execute_result"
    },
    {
     "data": {
      "image/png": "[encoded data removed]",
      "text/plain": [
       "<Figure size 432x288 with 1 Axes>"
      ]
     },
     "metadata": {
      "needs_background": "light"
     },
     "output_type": "display_data"
    }
   ],
   "source": [
    "thresholds = np.arange(0,1,0.01)\n",
    "false_positives = np.empty([len(thresholds),])\n",
    "for i in range(len(thresholds)):\n",
    "    \n",
    "    probs = mdl.predict()\n",
    "    classif = lambda x: 1 if (x>thresholds[i]) else 0\n",
    "    \n",
    "    predictions = np.array([classif(x) for x in probs])\n",
    "    confusionMatrix = confusion_matrix(data[['mature']], predictions)\n",
    "    specificity = confusionMatrix[0,0]/(confusionMatrix[0,0]+confusionMatrix[0,1])\n",
    "    false_positives[i] = 1 - specificity\n",
    "    \n",
    "plt.plot(thresholds, false_positives)\n",
    "plt.xlabel(\"Threshold Value\")\n",
    "plt.ylabel(\"False Positive Rate\")"
   ]
  },
  {
   "cell_type": "markdown",
   "metadata": {},
   "source": [
    "3f)"
   ]
  },
  {
   "cell_type": "code",
   "execution_count": 64,
   "metadata": {},
   "outputs": [
    {
     "data": {
      "text/plain": [
       "Text(0, 0.5, 'Precision, Recall, F1')"
      ]
     },
     "execution_count": 64,
     "metadata": {},
     "output_type": "execute_result"
    },
    {
     "data": {
      "image/png": "[encoded data removed]",
      "text/plain": [
       "<Figure size 432x288 with 1 Axes>"
      ]
     },
     "metadata": {
      "needs_background": "light"
     },
     "output_type": "display_data"
    }
   ],
   "source": [
    "thresholds = np.arange(0,1,0.01)\n",
    "recalls = np.empty([len(thresholds),])\n",
    "precisions = np.empty([len(thresholds),])\n",
    "F1s = np.empty([len(thresholds),])\n",
    "\n",
    "for i in range(len(thresholds)):\n",
    "    probs = mdl.predict()\n",
    "    classif = lambda x: 1 if (x > thresholds[i]) else 0\n",
    "    predictions = np.array([classif(x) for x in probs])\n",
    "    \n",
    "    confusionMatrix = confusion_matrix(data[['mature']], predictions)\n",
    "    \n",
    "    recall = confusionMatrix[1,1]/(confusionMatrix[1,0] + confusionMatrix[1,1])\n",
    "    precision = confusionMatrix[1,1]/(confusionMatrix[0,1] + confusionMatrix[1,1])\n",
    "    F1 = 2 * (precision * recall) / (precision + recall)\n",
    "    recalls[i] = recall\n",
    "    precisions[i] = precision\n",
    "    F1s[i] = F1\n",
    "    \n",
    "    \n",
    "plt.plot(thresholds, false_positives)\n",
    "plt.plot(thresholds, recalls)\n",
    "plt.plot(thresholds, F1s)\n",
    "    \n",
    "plt.xlabel(\"Threshold Value\")\n",
    "plt.ylabel(\"Precision, Recall, F1\")"
   ]
  },
  {
   "cell_type": "markdown",
   "metadata": {},
   "source": [
    "3g)"
   ]
  },
  {
   "cell_type": "code",
   "execution_count": 65,
   "metadata": {},
   "outputs": [
    {
     "data": {
      "text/plain": [
       "Text(0, 0.5, 'False Positive Rate')"
      ]
     },
     "execution_count": 65,
     "metadata": {},
     "output_type": "execute_result"
    },
    {
     "data": {
      "image/png": "[encoded data removed]",
      "text/plain": [
       "<Figure size 432x288 with 1 Axes>"
      ]
     },
     "metadata": {
      "needs_background": "light"
     },
     "output_type": "display_data"
    }
   ],
   "source": [
    "thresholds = np.arange(0,1,0.01)\n",
    "false_positive = np.empty([len(thresholds),])\n",
    "true_positive = np.empty([len(thresholds),])\n",
    "\n",
    "for i in range(len(thresholds)):\n",
    "    probs = mdl.predict()\n",
    "    classif = lambda x: 1 if(x > thresholds[i]) else 0 \n",
    "    predictions = np.array([classif(x) for x in probs])\n",
    "    confusionM = confusion_matrix(data[['mature']], predictions)\n",
    "    specificity = confusionM[0,0]/(confusionM[0,0]+ confusionM[0,1])\n",
    "    false_positive[i] = 1 - specificity\n",
    "    true_positive[i] = confusionM[1,1]/(confusionM[1,0] + confusionM[1,1])\n",
    "    \n",
    "plt.plot(thresholds, false_positive)\n",
    "plt.plot(thresholds, true_positive)\n",
    "plt.xlabel(\"Threshold Value\")\n",
    "plt.ylabel(\"False Positive Rate\")"
   ]
  },
  {
   "cell_type": "markdown",
   "metadata": {},
   "source": [
    "4a)"
   ]
  },
  {
   "cell_type": "code",
   "execution_count": 70,
   "metadata": {},
   "outputs": [
    {
     "data": {
      "text/html": [
       "<div>\n",
       "<style scoped>\n",
       "    .dataframe tbody tr th:only-of-type {\n",
       "        vertical-align: middle;\n",
       "    }\n",
       "\n",
       "    .dataframe tbody tr th {\n",
       "        vertical-align: top;\n",
       "    }\n",
       "\n",
       "    .dataframe thead th {\n",
       "        text-align: right;\n",
       "    }\n",
       "</style>\n",
       "<table border=\"1\" class=\"dataframe\">\n",
       "  <thead>\n",
       "    <tr style=\"text-align: right;\">\n",
       "      <th></th>\n",
       "      <th>training error rate</th>\n",
       "      <th>test error rate</th>\n",
       "    </tr>\n",
       "  </thead>\n",
       "  <tbody>\n",
       "    <tr>\n",
       "      <th>0</th>\n",
       "      <td>0.093415</td>\n",
       "      <td>0.103659</td>\n",
       "    </tr>\n",
       "    <tr>\n",
       "      <th>1</th>\n",
       "      <td>0.099541</td>\n",
       "      <td>0.079268</td>\n",
       "    </tr>\n",
       "    <tr>\n",
       "      <th>2</th>\n",
       "      <td>0.093272</td>\n",
       "      <td>0.104294</td>\n",
       "    </tr>\n",
       "    <tr>\n",
       "      <th>3</th>\n",
       "      <td>0.094801</td>\n",
       "      <td>0.110429</td>\n",
       "    </tr>\n",
       "    <tr>\n",
       "      <th>4</th>\n",
       "      <td>0.096330</td>\n",
       "      <td>0.092025</td>\n",
       "    </tr>\n",
       "  </tbody>\n",
       "</table>\n",
       "</div>"
      ],
      "text/plain": [
       "   training error rate  test error rate\n",
       "0             0.093415         0.103659\n",
       "1             0.099541         0.079268\n",
       "2             0.093272         0.104294\n",
       "3             0.094801         0.110429\n",
       "4             0.096330         0.092025"
      ]
     },
     "execution_count": 70,
     "metadata": {},
     "output_type": "execute_result"
    }
   ],
   "source": [
    "def sensitivity(conf_mat):\n",
    "    return conf_mat[1, 1]/np.sum(conf_mat[1, :])\n",
    "def specificity(conf_mat):\n",
    "    return conf_mat[0, 0]/np.sum(conf_mat[0, :])\n",
    "\n",
    "def true_positive_rate(conf_mat):\n",
    "    return sensitivity(conf_mat)\n",
    "def recall(conf_mat):\n",
    "    return sensitivity(conf_mat)\n",
    "def false_positive_rate(conf_mat):\n",
    "    return 1 - specificity(conf_mat)\n",
    "def precision(conf_mat):\n",
    "    return conf_mat[1, 1]/np.sum(conf_mat[:, 1])\n",
    "\n",
    "def accuracy(conf_mat):\n",
    "    return (conf_mat[0, 0] + conf_mat[1, 1])/np.sum(np.ravel(conf_mat))\n",
    "def error_rate(conf_mat):\n",
    "    return 1 - accuracy(conf_mat) \n",
    "\n",
    "\n",
    "k = 5 \n",
    "threshold = 0.5\n",
    "kf = KFold(n_splits=k, shuffle=True)\n",
    "train_trrs = []\n",
    "test_trrs = []\n",
    "\n",
    "for train_index, test_index in kf.split(data):\n",
    "    data_train = data.iloc[train_index, :]\n",
    "    data_test = data.iloc[test_index, :]\n",
    "    \n",
    "    # logistic regression\n",
    "    res = smf.logit('mature ~ 1 + Lars2 + Malat1', data=data_train).fit(disp=0)\n",
    "    \n",
    "    # total error rate \n",
    "    train_pred_cat = (res.predict(data_train) > threshold).astype(int)\n",
    "    train_conf_mat = metrics.confusion_matrix(data_train['mature'], train_pred_cat)\n",
    "    train_trr = error_rate(train_conf_mat)\n",
    "    train_trrs.append(train_trr)\n",
    "    \n",
    "    test_pred_cat = (res.predict(data_test) > threshold).astype(int)\n",
    "    test_conf_mat = metrics.confusion_matrix(data_test['mature'], test_pred_cat)\n",
    "    test_trr = error_rate(test_conf_mat)\n",
    "    test_trrs.append(test_trr)\n",
    "    \n",
    "res_table = pd.DataFrame()\n",
    "res_table['training error rate'] = train_trrs\n",
    "res_table['test error rate'] = test_trrs\n",
    "res_table\n",
    "    "
   ]
  },
  {
   "cell_type": "markdown",
   "metadata": {},
   "source": [
    "4b)"
   ]
  },
  {
   "cell_type": "code",
   "execution_count": 71,
   "metadata": {},
   "outputs": [
    {
     "data": {
      "text/plain": [
       "training error rate    0.095472\n",
       "test error rate        0.097935\n",
       "dtype: float64"
      ]
     },
     "execution_count": 71,
     "metadata": {},
     "output_type": "execute_result"
    }
   ],
   "source": [
    "res_table.mean()"
   ]
  },
  {
   "cell_type": "code",
   "execution_count": 86,
   "metadata": {},
   "outputs": [
    {
     "name": "stdout",
     "output_type": "stream",
     "text": [
      "train SEM:  0.0010355752150092898\n",
      "test SEM:   0.004950525492261623\n"
     ]
    }
   ],
   "source": [
    "train_SEM = np.std(train_trrs)/np.sqrt(len(train_trrs))\n",
    "test_SEM = np.std(test_trrs)/np.sqrt(len(test_trrs))\n",
    "print(\"train SEM: \", train_SEM )\n",
    "print(\"test SEM:  \", test_SEM)"
   ]
  },
  {
   "cell_type": "markdown",
   "metadata": {},
   "source": [
    "4c)"
   ]
  },
  {
   "cell_type": "code",
   "execution_count": 91,
   "metadata": {},
   "outputs": [
    {
     "name": "stdout",
     "output_type": "stream",
     "text": [
      "Mean:   2.3308005438435284 STD:   0.21919098544202936\n"
     ]
    }
   ],
   "source": [
    "sample = []\n",
    "\n",
    "for x in range(100):\n",
    "    data_resample = data.sample(frac = 1, replace = True)\n",
    "    mdl = smf.logit('mature~ 1 + Lars2 +Malat1', data = data_resample)\n",
    "    result = mdl.fit(disp=0)\n",
    "    sample.append(result.params['Lars2'])\n",
    "    \n",
    "meanSample = sum(sample)/100\n",
    "STDsample = np.std(sample)\n",
    "print(\"Mean:  \", meanSample, \"STD:  \", STDsample)"
   ]
  },
  {
   "cell_type": "code",
   "execution_count": null,
   "metadata": {},
   "outputs": [],
   "source": []
  },
  {
   "cell_type": "code",
   "execution_count": null,
   "metadata": {},
   "outputs": [],
   "source": []
  }
 ],
 "metadata": {
  "kernelspec": {
   "display_name": "Python 3",
   "language": "python",
   "name": "python3"
  },
  "language_info": {
   "codemirror_mode": {
    "name": "ipython",
    "version": 3
   },
   "file_extension": ".py",
   "mimetype": "text/x-python",
   "name": "python",
   "nbconvert_exporter": "python",
   "pygments_lexer": "ipython3",
   "version": "3.8.5"
  }
 },
 "nbformat": 4,
 "nbformat_minor": 2
}
